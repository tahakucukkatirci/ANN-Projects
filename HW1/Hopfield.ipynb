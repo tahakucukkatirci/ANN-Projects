{
 "cells": [
  {
   "cell_type": "code",
   "execution_count": 415,
   "metadata": {},
   "outputs": [],
   "source": [
    "%matplotlib inline\n",
    "import numpy as np\n",
    "from pylab import *"
   ]
  },
  {
   "cell_type": "code",
   "execution_count": 416,
   "metadata": {},
   "outputs": [],
   "source": [
    "A = '''\n",
    "...xx...\n",
    "..x..x..\n",
    ".x....x.\n",
    "x......x\n",
    "xxxxxxxx\n",
    "x......x\n",
    "x......x\n",
    "x......x\n",
    "'''"
   ]
  },
  {
   "cell_type": "code",
   "execution_count": 417,
   "metadata": {},
   "outputs": [],
   "source": [
    "X = '''\n",
    "x......x\n",
    ".x....x.\n",
    "..x..x..\n",
    "...xx...\n",
    "...xx...\n",
    "..x..x..\n",
    ".x....x.\n",
    "x......x\n",
    "'''"
   ]
  },
  {
   "cell_type": "code",
   "execution_count": 418,
   "metadata": {},
   "outputs": [],
   "source": [
    "I = '''\n",
    "xxxxxxxx\n",
    "...xx...\n",
    "...xx...\n",
    "...xx...\n",
    "...xx...\n",
    "...xx...\n",
    "...xx...\n",
    "xxxxxxxx\n",
    "'''"
   ]
  },
  {
   "cell_type": "code",
   "execution_count": 419,
   "metadata": {},
   "outputs": [],
   "source": [
    "seven = '''\n",
    "xxxxxxxx\n",
    ".......x\n",
    ".......x\n",
    ".......x\n",
    ".......x\n",
    ".......x\n",
    ".......x\n",
    ".......x\n",
    "'''"
   ]
  },
  {
   "cell_type": "code",
   "execution_count": 420,
   "metadata": {},
   "outputs": [],
   "source": [
    "def generate_pattern_vector(pattern):\n",
    "    return np.array([1 if cell=='x' else -1 for cell in pattern.replace('\\n','')])"
   ]
  },
  {
   "cell_type": "code",
   "execution_count": 421,
   "metadata": {},
   "outputs": [],
   "source": [
    "vector_A = generate_pattern_vector(A)\n",
    "vector_X = generate_pattern_vector(X)\n",
    "vector_I = generate_pattern_vector(I)\n",
    "vector_7 = generate_pattern_vector(seven)\n",
    "\n",
    "patterns = [vector_A, vector_X, vector_I, vector_7]"
   ]
  },
  {
   "cell_type": "code",
   "execution_count": 422,
   "metadata": {},
   "outputs": [
    {
     "data": {
      "image/png": "[encoded data removed]",
      "text/plain": [
       "<matplotlib.figure.Figure at 0x11a6c3a58>"
      ]
     },
     "metadata": {},
     "output_type": "display_data"
    }
   ],
   "source": [
    "fig = plt.figure()\n",
    "i=221\n",
    "for pattern in patterns:\n",
    "    plt.subplot(i)\n",
    "    plt.imshow(pattern.reshape((8,8)), cmap=cm.binary)\n",
    "    i+=1"
   ]
  },
  {
   "cell_type": "code",
   "execution_count": 423,
   "metadata": {},
   "outputs": [],
   "source": [
    "def generate_weight_matrix(patterns):\n",
    "    N = np.shape(patterns[0])[0]\n",
    "    identity = np.identity(N)\n",
    "    w_matrix = np.zeros((N,N))\n",
    "    for pattern in patterns:\n",
    "        w_matrix = w_matrix + (np.outer(pattern,pattern)-identity)\n",
    "    \n",
    "    return w_matrix"
   ]
  },
  {
   "cell_type": "code",
   "execution_count": 424,
   "metadata": {},
   "outputs": [
    {
     "data": {
      "text/plain": [
       "array([[ 0.,  2.,  2., ...,  0.,  0.,  2.],\n",
       "       [ 2.,  0.,  4., ...,  2.,  2.,  0.],\n",
       "       [ 2.,  4.,  0., ...,  2.,  2.,  0.],\n",
       "       ...,\n",
       "       [ 0.,  2.,  2., ...,  0.,  4., -2.],\n",
       "       [ 0.,  2.,  2., ...,  4.,  0., -2.],\n",
       "       [ 2.,  0.,  0., ..., -2., -2.,  0.]])"
      ]
     },
     "execution_count": 424,
     "metadata": {},
     "output_type": "execute_result"
    }
   ],
   "source": [
    "weight_matrix = generate_weight_matrix(patterns)\n",
    "weight_matrix"
   ]
  },
  {
   "cell_type": "code",
   "execution_count": 426,
   "metadata": {},
   "outputs": [],
   "source": [
    "def simulate(input_vector, w_matrix):\n",
    "    N = np.shape(w_matrix)[0]\n",
    "    print(N)\n",
    "    c=1\n",
    "    while True:\n",
    "        print(c)\n",
    "        indices = np.arange(N)\n",
    "        np.random.shuffle(indices)\n",
    "        x = input_vector.copy()\n",
    "        for i in range(N):\n",
    "            idx = indices[i];\n",
    "            temp = np.dot(w_matrix[:,idx],input_vector)\n",
    "            temp = 1 if temp>=0 else -1\n",
    "            input_vector[idx]=temp\n",
    "        if np.array_equal(x,input_vector):\n",
    "            break\n",
    "        c+=1\n",
    "    return input_vector"
   ]
  },
  {
   "cell_type": "code",
   "execution_count": 433,
   "metadata": {},
   "outputs": [
    {
     "name": "stdout",
     "output_type": "stream",
     "text": [
      "[ 1 -1 -1 -1 -1  1 -1 -1 -1  1 -1 -1  1 -1  1  1 -1  1 -1  1 -1  1  1  1\n",
      " -1 -1  1  1 -1  1  1  1 -1 -1 -1 -1 -1 -1 -1  1  1 -1  1  1 -1 -1 -1 -1\n",
      " -1 -1 -1  1  1 -1  1  1  1 -1  1  1 -1  1 -1  1]\n",
      "64\n",
      "1\n",
      "2\n",
      "3\n"
     ]
    },
    {
     "data": {
      "text/plain": [
       "<matplotlib.image.AxesImage at 0x11b13d400>"
      ]
     },
     "execution_count": 433,
     "metadata": {},
     "output_type": "execute_result"
    },
    {
     "data": {
      "image/png": "[encoded data removed]",
      "text/plain": [
       "<matplotlib.figure.Figure at 0x11ab5bb00>"
      ]
     },
     "metadata": {},
     "output_type": "display_data"
    }
   ],
   "source": [
    "test_vector = 2*np.random.randint(2, size=64)-1\n",
    "print(test_vector)\n",
    "fig = plt.figure()\n",
    "plt.subplot(121)\n",
    "plt.imshow(test_vector.reshape((8,8)), cmap=cm.binary)\n",
    "test_result = simulate(test_vector, weight_matrix)\n",
    "plt.subplot(122)\n",
    "plt.imshow(test_result.reshape((8,8)), cmap=cm.binary, interpolation=\"nearest\")"
   ]
  },
  {
   "cell_type": "code",
   "execution_count": null,
   "metadata": {},
   "outputs": [],
   "source": []
  }
 ],
 "metadata": {
  "kernelspec": {
   "display_name": "Python 3",
   "language": "python",
   "name": "python3"
  },
  "language_info": {
   "codemirror_mode": {
    "name": "ipython",
    "version": 3
   },
   "file_extension": ".py",
   "mimetype": "text/x-python",
   "name": "python",
   "nbconvert_exporter": "python",
   "pygments_lexer": "ipython3",
   "version": "3.6.2"
  }
 },
 "nbformat": 4,
 "nbformat_minor": 2
}
