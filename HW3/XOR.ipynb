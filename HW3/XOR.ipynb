{
 "cells": [
  {
   "cell_type": "markdown",
   "metadata": {},
   "source": [
    "## Question 1 - XOR"
   ]
  },
  {
   "cell_type": "code",
   "execution_count": 1,
   "metadata": {},
   "outputs": [],
   "source": [
    "import numpy as np"
   ]
  },
  {
   "cell_type": "code",
   "execution_count": 2,
   "metadata": {},
   "outputs": [],
   "source": [
    "def initialize_network(no_of_hidden_neurons):\n",
    "    X = np.array([[0,0],[0,1],[1,0],[1,1]])\n",
    "    y = np.array([0,1,1,0])\n",
    "    W = []\n",
    "    a = np.random.normal(0, 1, no_of_hidden_neurons)\n",
    "    b = np.random.normal(0, 1, no_of_hidden_neurons)\n",
    "    w0 = np.column_stack((a,b))\n",
    "    W.append(w0)\n",
    "    w1 = np.random.normal(0, 1, no_of_hidden_neurons).reshape(1,no_of_hidden_neurons)\n",
    "    W.append(w1)\n",
    "    \n",
    "    return X,y,W"
   ]
  },
  {
   "cell_type": "code",
   "execution_count": 3,
   "metadata": {},
   "outputs": [],
   "source": [
    "def sigmoid(x):\n",
    "    return 1/(1+np.exp(-x))"
   ]
  },
  {
   "cell_type": "code",
   "execution_count": 4,
   "metadata": {},
   "outputs": [],
   "source": [
    "def error(y_head,y):\n",
    "    return 0.5*(y_head-y)**2"
   ]
  },
  {
   "cell_type": "code",
   "execution_count": 5,
   "metadata": {},
   "outputs": [],
   "source": [
    "def forward_prop(x,W):\n",
    "    outputs = []\n",
    "    a = x.copy()\n",
    "    layer_outputs = [a.reshape((a.shape[0],1))]\n",
    "    for w in W:\n",
    "        z = w.dot(a)\n",
    "        a = sigmoid(z)\n",
    "        a = a.reshape((a.shape[0],1))\n",
    "        layer_outputs.append(a)\n",
    "    \n",
    "    return layer_outputs"
   ]
  },
  {
   "cell_type": "code",
   "execution_count": 6,
   "metadata": {},
   "outputs": [],
   "source": [
    "def back_prop(X,y,W,learning_rate=0.5,no_of_epochs=10000):\n",
    "    ERR = []\n",
    "    for _ in range(no_of_epochs):\n",
    "        gradients = [np.zeros(w.shape) for w in W]\n",
    "        total_error = 0\n",
    "        for idx, x in enumerate(X):\n",
    "            layer_outputs = forward_prop(x,W)\n",
    "            i = -1\n",
    "            deltas = [layer_outputs[i] - y[idx]]\n",
    "            total_error += float(error(layer_outputs[i],y[idx]))\n",
    "            for w in reversed(W[1:]):\n",
    "                i = i-1\n",
    "                current = layer_outputs[i]\n",
    "                layer_delta = w.T.dot(deltas[0])*current*(1-current)\n",
    "                a,b = layer_delta.shape[0], 1\n",
    "                layer_delta = layer_delta.reshape((a,b))\n",
    "                deltas.insert(0, layer_delta)\n",
    "\n",
    "            for i in range(len(gradients)):\n",
    "                gradients[i] = gradients[i] + deltas[i].dot(layer_outputs[i].T)\n",
    "\n",
    "            '''\n",
    "            print(\"Deltas:\", deltas)\n",
    "            print(\"Layer outputs (a):\", layer_outputs)\n",
    "            print(\"W:\", W)\n",
    "            print(\"Grad:\", gradients)\n",
    "            '''\n",
    "\n",
    "        ERR.append(total_error)\n",
    "        for i in range(len(W)):\n",
    "            W[i] = W[i] - learning_rate*(1/len(X))*gradients[i]\n",
    "            \n",
    "    return W, ERR"
   ]
  },
  {
   "cell_type": "code",
   "execution_count": 7,
   "metadata": {},
   "outputs": [
    {
     "name": "stdout",
     "output_type": "stream",
     "text": [
      "[[0.0011694]]\n",
      "[[0.99905059]]\n",
      "[[0.99871612]]\n",
      "[[0.00107099]]\n"
     ]
    }
   ],
   "source": [
    "X,y,W = initialize_network(9)\n",
    "W_end, ERR = back_prop(X,y,W,learning_rate=1,no_of_epochs=10000)\n",
    "for x in X:\n",
    "    result = forward_prop(x,W_end)\n",
    "    res = result[-1]\n",
    "    print(res)"
   ]
  },
  {
   "cell_type": "code",
   "execution_count": 8,
   "metadata": {},
   "outputs": [
    {
     "name": "stdout",
     "output_type": "stream",
     "text": [
      "Final Error: 2.5326686759191607e-06\n"
     ]
    },
    {
     "data": {
      "image/png": "[encoded data removed]",
      "text/plain": [
       "<matplotlib.figure.Figure at 0x1078abba8>"
      ]
     },
     "metadata": {},
     "output_type": "display_data"
    }
   ],
   "source": [
    "%matplotlib inline\n",
    "import matplotlib.pyplot as plt\n",
    "plt.figure()\n",
    "plt.plot(np.arange(len(ERR)),ERR)\n",
    "plt.xlabel('Epoch')\n",
    "plt.ylabel('Total Cost Function')\n",
    "plt.show()"
   ]
  },
  {
   "cell_type": "code",
   "execution_count": null,
   "metadata": {},
   "outputs": [],
   "source": []
  },
  {
   "cell_type": "code",
   "execution_count": null,
   "metadata": {},
   "outputs": [],
   "source": []
  }
 ],
 "metadata": {
  "kernelspec": {
   "display_name": "Python 3",
   "language": "python",
   "name": "python3"
  },
  "language_info": {
   "codemirror_mode": {
    "name": "ipython",
    "version": 3
   },
   "file_extension": ".py",
   "mimetype": "text/x-python",
   "name": "python",
   "nbconvert_exporter": "python",
   "pygments_lexer": "ipython3",
   "version": "3.6.2"
  }
 },
 "nbformat": 4,
 "nbformat_minor": 2
}
