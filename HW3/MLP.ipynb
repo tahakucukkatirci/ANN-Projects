{
 "cells": [
  {
   "cell_type": "code",
   "execution_count": null,
   "metadata": {},
   "outputs": [],
   "source": [
    "%matplotlib inline\n",
    "import numpy as np\n",
    "import matplotlib.pyplot as plt"
   ]
  },
  {
   "cell_type": "markdown",
   "metadata": {},
   "source": [
    "# Multilayer Perceptron\n",
    "\n",
    "- In this project, I was assigned to implement multilayer perceptron (MLP) for three different problems which are:\n",
    "    - XOR\n",
    "    - Sine approximation\n",
    "    - Iris flower classification\n",
    "\n",
    "\n",
    "- For this purpose, I implemented a generic MLP class which can be used for each problem separately. An MLP object takes two arguments:\n",
    "    - Number of neurons in each layer\n",
    "    - Type of activation function\n",
    "\n",
    "\n",
    "- Layer sizes are given in a list where first element is the size of input layer, last is the size of output layer and the remaining are for hidden layers. You may change the number of neurons in hidden layers and see the change in the model.\n",
    "- As activation function I determined two functions which are $\\textbf{sigmoid}$ and $\\textbf{tanh}$.\n",
    "\n",
    "\n",
    "- MLP class contains the implementation of forward propogation and back propogation. It also includes train and test functions. So, everythihg we need are embedded into this class. You may see the implementation below."
   ]
  },
  {
   "cell_type": "code",
   "execution_count": 11,
   "metadata": {},
   "outputs": [],
   "source": [
    "class MLP():\n",
    "    def __init__(self,layer_sizes,activation_function):\n",
    "        if activation_function==\"sigmoid\":\n",
    "            self.activation = lambda x: 1/(1+np.exp(-x))\n",
    "            self.activation_derivative = lambda x: x*(1-x)\n",
    "        \n",
    "        elif activation_function==\"tanh\":\n",
    "            self.activation = lambda x: np.tanh(x)\n",
    "            self.activation_derivative = lambda x: 1-x**2\n",
    "        \n",
    "        self.W = []\n",
    "        for i in range(len(layer_sizes)-1):\n",
    "            a,b = layer_sizes[i], layer_sizes[i+1]\n",
    "            w = np.random.normal(0, 1, a*b).reshape(b,a)\n",
    "            self.W.append(w)\n",
    "\n",
    "\n",
    "    def error(self,y_head,y):\n",
    "        return np.sum(0.5*(y_head-y)**2)\n",
    "    \n",
    "    def forward_prop(self,x):\n",
    "        a = x.copy()\n",
    "        \n",
    "        try:\n",
    "            layer_outputs = [a.reshape((a.shape[0],1))]\n",
    "        except IndexError:\n",
    "            layer_outputs = [a]\n",
    "        \n",
    "        for w in self.W:\n",
    "            z = w.dot(a)\n",
    "            a = self.activation(z)\n",
    "            a = a.reshape((a.shape[0],1))\n",
    "            layer_outputs.append(a)\n",
    "\n",
    "        return layer_outputs\n",
    "\n",
    "    def back_prop(self,layer_outputs,y_sample):\n",
    "        i = -1\n",
    "        deltas = [layer_outputs[i] - y_sample]\n",
    "        for w in reversed(self.W[1:]):\n",
    "            i = i-1\n",
    "            current = layer_outputs[i]\n",
    "            layer_delta = w.T.dot(deltas[0])*self.activation_derivative(current)\n",
    "            a,b = layer_delta.shape[0], 1\n",
    "            layer_delta = layer_delta.reshape((a,b))\n",
    "            deltas.insert(0, layer_delta)\n",
    "        \n",
    "        return deltas\n",
    "\n",
    "    def train(self,X,y,learning_rate,no_of_epochs):\n",
    "        ERR = []\n",
    "        for _ in range(no_of_epochs):\n",
    "            gradients = [np.zeros(w.shape) for w in self.W]\n",
    "            total_error = 0\n",
    "            for idx, x in enumerate(X):\n",
    "                layer_outputs = self.forward_prop(x)\n",
    "                \n",
    "                try:\n",
    "                    y_current = y[idx].reshape((y[idx].shape[0],1))\n",
    "                except IndexError:\n",
    "                    y_current = y[idx].copy()\n",
    "                \n",
    "                total_error += float(self.error(layer_outputs[-1],y_current))\n",
    "                deltas = self.back_prop(layer_outputs,y_current)\n",
    "                for i in range(len(gradients)):\n",
    "                    gradients[i] = gradients[i] + deltas[i].dot(layer_outputs[i].T)\n",
    "                \n",
    "            ERR.append(total_error)\n",
    "            for i in range(len(self.W)):\n",
    "                self.W[i] = self.W[i] - learning_rate*(1/len(X))*gradients[i]\n",
    "        \n",
    "        return ERR\n",
    "\n",
    "    def test(self,X_test):\n",
    "        y_pred = []\n",
    "        for x in X_test:\n",
    "            result = self.forward_prop(x)\n",
    "            res = result[-1]\n",
    "            y_pred.append(res[0][0])\n",
    "\n",
    "        return np.array(y_pred)\n",
    "    \n",
    "    def plot_error(self,errors):\n",
    "        plt.figure()\n",
    "        plt.plot(np.arange(len(ERR)),ERR)\n",
    "        plt.xlabel('Epoch')\n",
    "        plt.ylabel('Total Cost')\n",
    "        plt.show()"
   ]
  },
  {
   "cell_type": "markdown",
   "metadata": {},
   "source": [
    "# XOR\n",
    "\n",
    "- In this problem, 3-layer network is used. You can change the size of hidden layer below.\n",
    "- You may change learning rate and number of epochs as well."
   ]
  },
  {
   "cell_type": "code",
   "execution_count": 12,
   "metadata": {},
   "outputs": [
    {
     "name": "stdout",
     "output_type": "stream",
     "text": [
      "Real XOR values: [0 1 1 0]\n",
      "Predicted XOR values: [0.00126805 0.9987266  0.9989927  0.00111944]\n"
     ]
    },
    {
     "data": {
      "image/png": "[encoded data removed]",
      "text/plain": [
       "<matplotlib.figure.Figure at 0x1079a3550>"
      ]
     },
     "metadata": {},
     "output_type": "display_data"
    }
   ],
   "source": [
    "# MLP network to be trained\n",
    "m_xor = MLP([2,9,1],activation_function=\"sigmoid\")\n",
    "\n",
    "# Input and output\n",
    "X = np.array([[0,0],[0,1],[1,0],[1,1]])\n",
    "y = np.array([0,1,1,0])\n",
    "\n",
    "# Training phase: Weights are learned and error per epoch returned\n",
    "ERR = m_xor.train(X,y,learning_rate=1,no_of_epochs=10000)\n",
    "\n",
    "# Test phase\n",
    "y_pred = m_xor.test(X)\n",
    "\n",
    "np.set_printoptions(suppress=True)\n",
    "print(\"Real XOR outputs:\", y)\n",
    "print(\"Predicted XOR outputs:\", y_pred)\n",
    "\n",
    "# Epoch vs. error plot\n",
    "m_xor.plot_error(ERR)"
   ]
  },
  {
   "cell_type": "markdown",
   "metadata": {},
   "source": [
    "# Sine Approximation\n",
    "\n",
    "- In this problem, 4-layer network is used. You can change the size of hidden layers below.\n",
    "- You may change learning rate and number of epochs as well.\n",
    "- These changes may lead to better convergence or vice versa.\n",
    "- In this problem, I used tanh as activation function since $range(sin) \\in [-1,1]$ .\n",
    "- The trained model is used on never seen test data and real sine function and predicted one are plotted."
   ]
  },
  {
   "cell_type": "code",
   "execution_count": 16,
   "metadata": {},
   "outputs": [],
   "source": [
    "from math import pi"
   ]
  },
  {
   "cell_type": "code",
   "execution_count": 17,
   "metadata": {},
   "outputs": [
    {
     "data": {
      "image/png": "[encoded data removed]",
      "text/plain": [
       "<matplotlib.figure.Figure at 0x107c9a828>"
      ]
     },
     "metadata": {},
     "output_type": "display_data"
    }
   ],
   "source": [
    "m_sine = MLP([1,10,12,1],activation_function=\"tanh\")\n",
    "\n",
    "# 40 points sampled from uniform distribution in [0,2π]\n",
    "X = 2*pi*np.random.random_sample((40,))\n",
    "X = np.sort(X)\n",
    "y = np.sin(X)\n",
    "\n",
    "ERR = m_sine.train(X,y, learning_rate=0.1, no_of_epochs=10000)\n",
    "m_sine.plot_error(ERR)"
   ]
  },
  {
   "cell_type": "code",
   "execution_count": 24,
   "metadata": {},
   "outputs": [
    {
     "name": "stdout",
     "output_type": "stream",
     "text": [
      "set()\n"
     ]
    },
    {
     "data": {
      "image/png": "[encoded data removed]",
      "text/plain": [
       "<matplotlib.figure.Figure at 0x107ac82e8>"
      ]
     },
     "metadata": {},
     "output_type": "display_data"
    }
   ],
   "source": [
    "# You can increase sample size for a smoother curve\n",
    "X_test = 2*pi*np.random.random_sample((40,))\n",
    "X_test = np.sort(X_test)\n",
    "y_test = np.sin(X_test)\n",
    "\n",
    "#print(set(list(X_test)).intersection(set(list(X))))\n",
    "y_pred_test = m_sine.test(X_test)\n",
    "plt.figure()\n",
    "plt.plot(X_test,y_test)\n",
    "plt.plot(X_test,y_pred_test)\n",
    "plt.legend(['True Sine', 'Predicted Sine'])\n",
    "plt.show()"
   ]
  },
  {
   "cell_type": "markdown",
   "metadata": {},
   "source": [
    "# Iris\n",
    "\n",
    "- In this problem, 4-layer network is used. You can change the size of hidden layers below.\n",
    "- You may change learning rate and number of epochs as well.\n",
    "- The dataset of size 150 is shuffled and 125 of samples are used as training data and 25 as test data."
   ]
  },
  {
   "cell_type": "code",
   "execution_count": 25,
   "metadata": {},
   "outputs": [],
   "source": [
    "from sklearn.datasets import load_iris\n",
    "from sklearn.model_selection import train_test_split\n",
    "\n",
    "iris = load_iris()\n",
    "\n",
    "X = iris['data']\n",
    "y = iris['target']\n",
    "\n",
    "# In this part the labels are converted into true 3x1 vector form\n",
    "temp = np.zeros((len(y),3))\n",
    "for i in range(temp.shape[0]):\n",
    "    temp[i][y[i]]=1\n",
    "    \n",
    "y = temp\n",
    "\n",
    "# Train-test split\n",
    "X_train, X_test, y_train, y_test = train_test_split(X, y, test_size=1/6)\n",
    "\n",
    "# y_test contains class labels instead of vector form\n",
    "y_test = np.apply_along_axis(lambda k: np.argmax(k), 1, y_test)\n",
    "\n",
    "m_iris = MLP([4,10,10,3],activation_function=\"sigmoid\")"
   ]
  },
  {
   "cell_type": "code",
   "execution_count": 26,
   "metadata": {},
   "outputs": [
    {
     "data": {
      "image/png": "[encoded data removed]",
      "text/plain": [
       "<matplotlib.figure.Figure at 0x10809f710>"
      ]
     },
     "metadata": {},
     "output_type": "display_data"
    }
   ],
   "source": [
    "ERR = m_iris.train(X_train,y_train, learning_rate=0.1, no_of_epochs=10000)\n",
    "m_iris.plot_error(ERR)"
   ]
  },
  {
   "cell_type": "code",
   "execution_count": 27,
   "metadata": {},
   "outputs": [],
   "source": [
    "# Prediction on never seen test data\n",
    "y_pred_iris = []\n",
    "for sample in X_test:\n",
    "    result = m_iris.forward_prop(sample)\n",
    "    max_idx = np.argmax(result[-1].T)\n",
    "    y_pred_iris.append(max_idx)\n",
    "    \n",
    "y_pred_iris = np.array(y_pred_iris)"
   ]
  },
  {
   "cell_type": "code",
   "execution_count": 29,
   "metadata": {},
   "outputs": [
    {
     "name": "stdout",
     "output_type": "stream",
     "text": [
      "The accuracy is: 0.92\n"
     ]
    }
   ],
   "source": [
    "# Accuracy scoring\n",
    "from sklearn.metrics import accuracy_score\n",
    "acc = accuracy_score(y_test, y_pred_iris)\n",
    "print(\"The accuracy is:\", str(acc))"
   ]
  },
  {
   "cell_type": "code",
   "execution_count": null,
   "metadata": {},
   "outputs": [],
   "source": []
  }
 ],
 "metadata": {
  "kernelspec": {
   "display_name": "Python 3",
   "language": "python",
   "name": "python3"
  },
  "language_info": {
   "codemirror_mode": {
    "name": "ipython",
    "version": 3
   },
   "file_extension": ".py",
   "mimetype": "text/x-python",
   "name": "python",
   "nbconvert_exporter": "python",
   "pygments_lexer": "ipython3",
   "version": "3.6.2"
  }
 },
 "nbformat": 4,
 "nbformat_minor": 2
}
