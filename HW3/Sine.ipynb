{
 "cells": [
  {
   "cell_type": "code",
   "execution_count": 1,
   "metadata": {},
   "outputs": [],
   "source": [
    "import numpy as np\n",
    "from math import pi"
   ]
  },
  {
   "cell_type": "code",
   "execution_count": 2,
   "metadata": {},
   "outputs": [],
   "source": [
    "def initialize_network(no_of_hidden_layers, hidden_layer_sizes):\n",
    "    if no_of_hidden_layers != len(hidden_layer_sizes):\n",
    "        return \"Please enter valid information\"\n",
    "    \n",
    "    X = 2*pi*np.random.random_sample((40,))\n",
    "    X = np.sort(X)\n",
    "    y = np.sin(X)\n",
    "    \n",
    "    layer_sizes = [1] + hidden_layer_sizes + [1]\n",
    "    W = []\n",
    "    for i in range(len(layer_sizes)-1):\n",
    "        a,b = layer_sizes[i], layer_sizes[i+1]\n",
    "        w = np.random.normal(0, 1, a*b).reshape(b,a)\n",
    "        W.append(w)\n",
    "    \n",
    "    return X,y,W"
   ]
  },
  {
   "cell_type": "code",
   "execution_count": 3,
   "metadata": {},
   "outputs": [],
   "source": [
    "def sigmoid(x):\n",
    "    return 1/(1+np.exp(-x))"
   ]
  },
  {
   "cell_type": "code",
   "execution_count": 4,
   "metadata": {},
   "outputs": [],
   "source": [
    "def tanh(x):\n",
    "    return np.tanh(x)"
   ]
  },
  {
   "cell_type": "code",
   "execution_count": 5,
   "metadata": {},
   "outputs": [],
   "source": [
    "def logit(x):\n",
    "    return np.log(x) - np.log(1-x)"
   ]
  },
  {
   "cell_type": "code",
   "execution_count": 6,
   "metadata": {},
   "outputs": [],
   "source": [
    "def error(y_head,y):\n",
    "    return 0.5*(y_head-y)**2"
   ]
  },
  {
   "cell_type": "code",
   "execution_count": 7,
   "metadata": {},
   "outputs": [],
   "source": [
    "def forward_prop(x,W):\n",
    "    outputs = []\n",
    "    a = x.copy()\n",
    "    layer_outputs = [a]\n",
    "    for w in W:\n",
    "        z = w.dot(a)\n",
    "        a = tanh(z)\n",
    "        a = a.reshape((a.shape[0],1))\n",
    "        layer_outputs.append(a)\n",
    "    \n",
    "    return layer_outputs"
   ]
  },
  {
   "cell_type": "code",
   "execution_count": 8,
   "metadata": {},
   "outputs": [],
   "source": [
    "def back_prop(X,y,W,learning_rate=0.03,no_of_epochs=10000):\n",
    "    \n",
    "    for _ in range(no_of_epochs):\n",
    "        gradients = [np.zeros(w.shape) for w in W]\n",
    "        for idx, x in enumerate(X):\n",
    "            layer_outputs = forward_prop(x,W)\n",
    "            i = -1\n",
    "            deltas = [layer_outputs[i] - y[idx]]\n",
    "            for w in reversed(W[1:]):\n",
    "                i = i-1\n",
    "                current = layer_outputs[i]\n",
    "                layer_delta = w.T.dot(deltas[0])*(1-current**2)\n",
    "                layer_delta = layer_delta.reshape((layer_delta.shape[0], 1))\n",
    "                deltas.insert(0, layer_delta)\n",
    "\n",
    "            for i in range(len(gradients)):\n",
    "                gradients[i] = gradients[i] + deltas[i].dot(layer_outputs[i].T)\n",
    "\n",
    "        for i in range(len(W)):\n",
    "            W[i] = W[i] - learning_rate*(1/len(X))*gradients[i]\n",
    "            \n",
    "    return W"
   ]
  },
  {
   "cell_type": "code",
   "execution_count": 110,
   "metadata": {},
   "outputs": [],
   "source": [
    "X,y,W = initialize_network(2, [10,12])"
   ]
  },
  {
   "cell_type": "code",
   "execution_count": 111,
   "metadata": {},
   "outputs": [],
   "source": [
    "W_end = back_prop(X,y,W, learning_rate=0.1, no_of_epochs=100000)"
   ]
  },
  {
   "cell_type": "code",
   "execution_count": 112,
   "metadata": {},
   "outputs": [],
   "source": [
    "y_score_train = []\n",
    "\n",
    "for x in X:\n",
    "    result = forward_prop(x,W_end)\n",
    "    res = result[-1]\n",
    "    y_score_train.append(res[0][0])\n",
    "    \n",
    "y_score_train = np.array(y_score_train)"
   ]
  },
  {
   "cell_type": "code",
   "execution_count": 113,
   "metadata": {},
   "outputs": [
    {
     "data": {
      "text/plain": [
       "0.23479289618660365"
      ]
     },
     "execution_count": 113,
     "metadata": {},
     "output_type": "execute_result"
    }
   ],
   "source": [
    "total_error = np.sum(error(y_score_train,y))\n",
    "total_error"
   ]
  },
  {
   "cell_type": "code",
   "execution_count": 114,
   "metadata": {
    "scrolled": true
   },
   "outputs": [
    {
     "data": {
      "image/png": "[encoded data removed]",
      "text/plain": [
       "<matplotlib.figure.Figure at 0x10801c7f0>"
      ]
     },
     "metadata": {},
     "output_type": "display_data"
    }
   ],
   "source": [
    "%matplotlib inline\n",
    "import matplotlib.pyplot as plt\n",
    "\n",
    "plt.figure()\n",
    "plt.plot(X,y)\n",
    "plt.plot(X,y_score_train)\n",
    "plt.show()"
   ]
  },
  {
   "cell_type": "code",
   "execution_count": 115,
   "metadata": {},
   "outputs": [
    {
     "name": "stdout",
     "output_type": "stream",
     "text": [
      "set()\n"
     ]
    }
   ],
   "source": [
    "X_test = 2*pi*np.random.random_sample((40,))\n",
    "#while len(set(X_test).intersection(set(X)))>=0:\n",
    "#    X_test = 4*pi*np.random.random_sample((80,))\n",
    "print(set(list(X_test)).intersection(set(list(X))))\n",
    "X_test = np.sort(X_test)\n",
    "y_test = np.sin(X_test)"
   ]
  },
  {
   "cell_type": "code",
   "execution_count": 116,
   "metadata": {},
   "outputs": [
    {
     "data": {
      "text/plain": [
       "0.2016070478562409"
      ]
     },
     "execution_count": 116,
     "metadata": {},
     "output_type": "execute_result"
    }
   ],
   "source": [
    "y_score_test = []\n",
    "\n",
    "for x in X_test:\n",
    "    result = forward_prop(x,W_end)\n",
    "    res = result[-1]\n",
    "    y_score_test.append(res[0][0])\n",
    "    \n",
    "y_score_test = np.array(y_score_test)\n",
    "total_error = np.sum(error(y_score_test,y_test))\n",
    "total_error"
   ]
  },
  {
   "cell_type": "code",
   "execution_count": 117,
   "metadata": {},
   "outputs": [
    {
     "data": {
      "image/png": "[encoded data removed]",
      "text/plain": [
       "<matplotlib.figure.Figure at 0x107e2a470>"
      ]
     },
     "metadata": {},
     "output_type": "display_data"
    }
   ],
   "source": [
    "%matplotlib inline\n",
    "import matplotlib.pyplot as plt\n",
    "\n",
    "plt.figure()\n",
    "plt.plot(X_test,y_test)\n",
    "plt.plot(X_test,y_score_test)\n",
    "plt.show()"
   ]
  },
  {
   "cell_type": "code",
   "execution_count": null,
   "metadata": {},
   "outputs": [],
   "source": []
  },
  {
   "cell_type": "code",
   "execution_count": null,
   "metadata": {},
   "outputs": [],
   "source": []
  }
 ],
 "metadata": {
  "kernelspec": {
   "display_name": "Python 3",
   "language": "python",
   "name": "python3"
  },
  "language_info": {
   "codemirror_mode": {
    "name": "ipython",
    "version": 3
   },
   "file_extension": ".py",
   "mimetype": "text/x-python",
   "name": "python",
   "nbconvert_exporter": "python",
   "pygments_lexer": "ipython3",
   "version": "3.6.2"
  }
 },
 "nbformat": 4,
 "nbformat_minor": 2
}
